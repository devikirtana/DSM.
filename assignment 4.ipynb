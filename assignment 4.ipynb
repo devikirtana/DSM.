{
 "cells": [
  {
   "cell_type": "markdown",
   "id": "fa23ee95-763b-4fd7-a08b-375df9e7d945",
   "metadata": {},
   "source": [
    "# Qn 1"
   ]
  },
  {
   "cell_type": "markdown",
   "id": "5d3d2add-f7d0-46f1-8016-9316c26bfcd4",
   "metadata": {},
   "source": [
    "\"\"\" Class is a user defined data types that act as a blueprint for individual objects.Class increses the reusability of the program.Many objects can be created for a class ,and class can be used number of times .\"\"\""
   ]
  },
  {
   "cell_type": "code",
   "execution_count": 6,
   "id": "c6984438-68fe-4eff-a98e-a92399dbcfa3",
   "metadata": {},
   "outputs": [],
   "source": [
    "class ab_clg:\n",
    "    def farewell(self):\n",
    "        print(\"welcome u all to the farewell\")"
   ]
  },
  {
   "cell_type": "code",
   "execution_count": 7,
   "id": "dd4d12da-5fbf-400c-b561-1bb5563dce05",
   "metadata": {},
   "outputs": [],
   "source": [
    "a=ab_clg()"
   ]
  },
  {
   "cell_type": "code",
   "execution_count": 8,
   "id": "4d29cb80-5fe9-49da-8bdf-c328a0c4c3b4",
   "metadata": {},
   "outputs": [
    {
     "name": "stdout",
     "output_type": "stream",
     "text": [
      "welcome u all to the farewell\n"
     ]
    }
   ],
   "source": [
    "a.farewell()"
   ]
  },
  {
   "cell_type": "code",
   "execution_count": null,
   "id": "af3e90c5-05c2-406e-9d49-6be1d68fa259",
   "metadata": {},
   "outputs": [],
   "source": []
  },
  {
   "cell_type": "markdown",
   "id": "b0851d7d-1460-4d82-b8e7-e21e3f52d9f2",
   "metadata": {},
   "source": [
    "# Qn 2"
   ]
  },
  {
   "cell_type": "code",
   "execution_count": null,
   "id": "8b8e7bf6-fb81-46e5-b2f2-2641ab093fa0",
   "metadata": {},
   "outputs": [],
   "source": [
    "\"\"\" The four pillars of OOPS are\n",
    "            Inheritance \n",
    "            Polymorphism\n",
    "            encapsulation\n",
    "            Abstraction \"\"\""
   ]
  },
  {
   "cell_type": "markdown",
   "id": "54e7b4bd-c030-450f-a9db-caadf287ee12",
   "metadata": {},
   "source": [
    "# Qn 3"
   ]
  },
  {
   "cell_type": "markdown",
   "id": "7902cc18-0ea7-48a0-b105-9ac000086116",
   "metadata": {},
   "source": [
    "\"\"\" __ init__() is a constructor which helps the class to take up the data \"\"\""
   ]
  },
  {
   "cell_type": "code",
   "execution_count": 2,
   "id": "ed3c766b-fcb9-4d24-a3cf-d74f4d8ef856",
   "metadata": {},
   "outputs": [],
   "source": [
    "class sslc:\n",
    "    def __init__(self,name,roll_no,marks):\n",
    "        self.name=name\n",
    "        self.roll_no=roll_no\n",
    "        self.marks=marks\n",
    "        \n",
    "    def students_details(self):\n",
    "        return self.name,self.roll_no,self.marks"
   ]
  },
  {
   "cell_type": "code",
   "execution_count": 3,
   "id": "88abf41b-1b76-422e-bc74-519c967915f2",
   "metadata": {},
   "outputs": [],
   "source": [
    "a=sslc(\"devi\",101,490)"
   ]
  },
  {
   "cell_type": "code",
   "execution_count": 4,
   "id": "e5e57cdb-9724-4433-af9e-d0fa56e1285b",
   "metadata": {},
   "outputs": [
    {
     "data": {
      "text/plain": [
       "('devi', 101, 490)"
      ]
     },
     "execution_count": 4,
     "metadata": {},
     "output_type": "execute_result"
    }
   ],
   "source": [
    "a.students_details()"
   ]
  },
  {
   "cell_type": "markdown",
   "id": "9e5c3195-5282-4397-8469-017d5be8aba7",
   "metadata": {},
   "source": [
    "# Qn 4"
   ]
  },
  {
   "cell_type": "code",
   "execution_count": null,
   "id": "9e3e1bef-d2d0-452e-ae30-565be7a6a15a",
   "metadata": {},
   "outputs": [],
   "source": [
    "\"\"\" Self is used to access variables that belongs to the class. Without self object cant identify to which class it belongs.\"\"\""
   ]
  },
  {
   "cell_type": "markdown",
   "id": "41992e2e-0e7d-4154-bf01-6ae9c8f63123",
   "metadata": {},
   "source": [
    "# Qn 5"
   ]
  },
  {
   "cell_type": "markdown",
   "id": "f3b8a035-c6d1-4b16-b7a5-ce180e8b485b",
   "metadata": {},
   "source": [
    "\"\"\" Inheritance allow us to define a class that inherits all the methods and properties from another class \"\"\""
   ]
  },
  {
   "cell_type": "markdown",
   "id": "f62c2bbc-ed45-4c55-921c-1e3cbaf17243",
   "metadata": {},
   "source": [
    "\"\"\" Types of inheritance\n",
    "        single inheritance\n",
    "        multiple inheritance\n",
    "        multilevel inheritance\n",
    "        hierarchial inheritance\n",
    "        hybrid inheritance \"\"\""
   ]
  }
 ],
 "metadata": {
  "kernelspec": {
   "display_name": "Python 3 (ipykernel)",
   "language": "python",
   "name": "python3"
  },
  "language_info": {
   "codemirror_mode": {
    "name": "ipython",
    "version": 3
   },
   "file_extension": ".py",
   "mimetype": "text/x-python",
   "name": "python",
   "nbconvert_exporter": "python",
   "pygments_lexer": "ipython3",
   "version": "3.10.8"
  }
 },
 "nbformat": 4,
 "nbformat_minor": 5
}
